{
 "cells": [
  {
   "cell_type": "markdown",
   "id": "92c7c054-bbc4-437d-a4ea-1ff82ae7ca5d",
   "metadata": {},
   "source": [
    "# Basic Preparation"
   ]
  },
  {
   "cell_type": "markdown",
   "id": "16894fc0-7680-4a77-a8d9-12f98848a5f2",
   "metadata": {
    "tags": []
   },
   "source": [
    "### Logging"
   ]
  },
  {
   "cell_type": "code",
   "execution_count": 1,
   "id": "5f761769-5847-43bb-9cb2-4c8941f12de6",
   "metadata": {},
   "outputs": [],
   "source": [
    "import logging\n",
    "import sys\n",
    "\n",
    "logging.basicConfig(stream=sys.stdout, level=logging.INFO)\n",
    "logging.getLogger().addHandler(logging.StreamHandler(stream=sys.stdout))"
   ]
  },
  {
   "cell_type": "markdown",
   "id": "27da6864-d289-41b1-bb8e-934a2d5e8978",
   "metadata": {
    "tags": []
   },
   "source": [
    "### Imports"
   ]
  },
  {
   "cell_type": "code",
   "execution_count": 2,
   "id": "2ba56197-6280-4478-8650-d3cc2487d396",
   "metadata": {},
   "outputs": [],
   "source": [
    "from typing import Any, List, Mapping, Optional\n",
    "\n",
    "from IPython.display import Markdown, display"
   ]
  },
  {
   "cell_type": "code",
   "execution_count": 3,
   "id": "9d2858a6-6e23-424c-8921-8cb380cd848e",
   "metadata": {},
   "outputs": [],
   "source": [
    "import torch\n",
    "from langchain.llms.base import LLM\n",
    "from llama_index import LLMPredictor, PromptHelper, ServiceContext, SimpleDirectoryReader\n",
    "from transformers import pipeline"
   ]
  },
  {
   "cell_type": "markdown",
   "id": "36ba3030-1ccb-4456-95e1-dd630a8811a0",
   "metadata": {
    "tags": []
   },
   "source": [
    "### Define Custom LLM"
   ]
  },
  {
   "cell_type": "markdown",
   "id": "09fbf343-b654-4226-bc27-d938b3044403",
   "metadata": {
    "tags": []
   },
   "source": [
    "Define Prompt Helper"
   ]
  },
  {
   "cell_type": "code",
   "execution_count": null,
   "id": "5d386327-ae62-4cdd-aa84-e69462767248",
   "metadata": {},
   "outputs": [],
   "source": [
    "max_input_size = 1024   # Set maximum input size\n",
    "num_output = 256        # Set number of output tokens\n",
    "max_chunk_overlap = 16  # Set maximum chunk overlap\n",
    "\n",
    "prompt_helper = PromptHelper(max_input_size, num_output, max_chunk_overlap)"
   ]
  },
  {
   "cell_type": "code",
   "execution_count": null,
   "id": "b71e9590-1a2f-4648-a764-abad9dc31f1e",
   "metadata": {},
   "outputs": [],
   "source": [
    "class CustomLLM(LLM):\n",
    "    model_name = 'sberbank-ai/ruT5-large'  # 1024\n",
    "    # model_name = 'cointegrated/rut5-base-multitask'  # 768\n",
    "    pipeline = pipeline(\n",
    "        'text2text-generation',\n",
    "        model=model_name,\n",
    "        device='cuda:0',\n",
    "        model_kwargs={'torch_dtype': torch.bfloat16},\n",
    "    )\n",
    "\n",
    "    def _call(self, prompt: str, stop: Optional[List[str]] = None) -> str:\n",
    "        prompt_length = len(prompt)\n",
    "        response = self.pipeline(prompt, max_new_tokens=num_output)[0]['generated_text']\n",
    "\n",
    "        # only return newly generated tokens\n",
    "        return response[prompt_length:]\n",
    "\n",
    "    @property\n",
    "    def _identifying_params(self) -> Mapping[str, Any]:\n",
    "        return {'name_of_model': self.model_name}\n",
    "\n",
    "    @property\n",
    "    def _llm_type(self) -> str:\n",
    "        return 'custom'"
   ]
  },
  {
   "cell_type": "code",
   "execution_count": null,
   "id": "1db352e1-faf0-494f-97e4-648a32d60363",
   "metadata": {},
   "outputs": [],
   "source": [
    "llm_predictor = LLMPredictor(llm=CustomLLM())\n",
    "service_context = ServiceContext.from_defaults(\n",
    "    llm_predictor=llm_predictor, prompt_helper=prompt_helper\n",
    ")"
   ]
  },
  {
   "cell_type": "markdown",
   "id": "edf305ef-7142-4a41-a99a-59f99cbb1344",
   "metadata": {},
   "source": [
    "# Indexing & Querying"
   ]
  },
  {
   "cell_type": "markdown",
   "id": "208b4838-ad9b-49be-a6d2-ae350c17452b",
   "metadata": {
    "tags": []
   },
   "source": [
    "### GPT List Index"
   ]
  },
  {
   "cell_type": "code",
   "execution_count": null,
   "id": "948a23b8-febf-47e7-b46c-4eda0916a84d",
   "metadata": {},
   "outputs": [],
   "source": [
    "from llama_index import GPTListIndex"
   ]
  },
  {
   "cell_type": "code",
   "execution_count": null,
   "id": "84251108-cc2a-417f-93a7-6121ecda53f4",
   "metadata": {},
   "outputs": [],
   "source": [
    "index_path = 'indices/partial/index_list.json'"
   ]
  },
  {
   "cell_type": "code",
   "execution_count": null,
   "id": "5d572d0a-bae4-460c-9bc6-028e18a1a83d",
   "metadata": {},
   "outputs": [],
   "source": [
    "# Build linked list index\n",
    "documents = SimpleDirectoryReader('data/partial').load_data()\n",
    "index = GPTListIndex.from_documents(documents, service_context=service_context)\n",
    "\n",
    "# Save index\n",
    "index.save_to_disk(index_path)"
   ]
  },
  {
   "cell_type": "code",
   "execution_count": null,
   "id": "45988b91-6e78-4c44-ab92-06142117544a",
   "metadata": {},
   "outputs": [],
   "source": [
    "# Load index from disk\n",
    "index = GPTListIndex.load_from_disk(index_path, service_context=service_context)"
   ]
  },
  {
   "cell_type": "code",
   "execution_count": null,
   "id": "08c38d27-e753-4a2d-8795-357c38d366ee",
   "metadata": {},
   "outputs": [],
   "source": [
    "# Query index\n",
    "response = index.query(\n",
    "    'В каком году Уголовный кодекс Российской Федерации был принят Государственной Думой?'\n",
    ")\n",
    "display(Markdown(f'<b>{response}</b>'))"
   ]
  },
  {
   "cell_type": "markdown",
   "id": "d324035a-a5ac-4461-abf5-26eabd459f35",
   "metadata": {
    "tags": []
   },
   "source": [
    "### GPT Tree Index"
   ]
  },
  {
   "cell_type": "code",
   "execution_count": null,
   "id": "7e01721b-0411-4197-807b-e16056fa96de",
   "metadata": {},
   "outputs": [],
   "source": [
    "from llama_index import GPTTreeIndex"
   ]
  },
  {
   "cell_type": "code",
   "execution_count": null,
   "id": "12241f11-298d-4333-b7ae-e402835833e1",
   "metadata": {},
   "outputs": [],
   "source": [
    "index_path = 'indices/partial/index_tree.json'"
   ]
  },
  {
   "cell_type": "code",
   "execution_count": null,
   "id": "283e8327-a2dc-4f72-8774-78607d598760",
   "metadata": {},
   "outputs": [],
   "source": [
    "# Build tree index\n",
    "documents = SimpleDirectoryReader('data/partial').load_data()\n",
    "index = GPTTreeIndex.from_documents(documents, service_context=service_context)\n",
    "\n",
    "# Save index\n",
    "index.save_to_disk(index_path)"
   ]
  },
  {
   "cell_type": "code",
   "execution_count": null,
   "id": "a72fa9ad-aefa-4d28-a6f2-389193e99e72",
   "metadata": {},
   "outputs": [],
   "source": [
    "# Load index from disk\n",
    "index = GPTTreeIndex.load_from_disk(index_path, service_context=service_context)"
   ]
  },
  {
   "cell_type": "markdown",
   "id": "56982e9a-2023-472b-9c16-cb46402f4571",
   "metadata": {
    "tags": []
   },
   "source": [
    "#### Default Leaf Traversal"
   ]
  },
  {
   "cell_type": "code",
   "execution_count": null,
   "id": "f88049fa-ce52-4660-b595-127e32e44a0d",
   "metadata": {},
   "outputs": [],
   "source": [
    "# Query index\n",
    "response = index.query(\n",
    "    'В каком году Уголовный кодекс Российской Федерации был принят Государственной Думой?'\n",
    ")\n",
    "display(Markdown(f'<b>{response}</b>'))"
   ]
  },
  {
   "cell_type": "markdown",
   "id": "36668ca9-4eba-456b-b0d0-b240321a9501",
   "metadata": {
    "tags": []
   },
   "source": [
    "#### Leaf Traversal with child_branch_factor=2"
   ]
  },
  {
   "cell_type": "code",
   "execution_count": null,
   "id": "7805a938-063c-4ef1-bc5b-89813818eba0",
   "metadata": {},
   "outputs": [],
   "source": [
    "# Query index\n",
    "response = index.query(\n",
    "    'В каком году Уголовный кодекс Российской Федерации был принят Государственной Думой?',\n",
    "    child_branch_factor=2\n",
    ")\n",
    "display(Markdown(f'<b>{response}</b>'))"
   ]
  },
  {
   "cell_type": "markdown",
   "id": "1ec966a4-1219-4d8b-ad52-6a0d2c70346e",
   "metadata": {
    "tags": []
   },
   "source": [
    "#### Tree Index with a custom Summary Prompt, directly retrieve answer from root node"
   ]
  },
  {
   "cell_type": "code",
   "execution_count": null,
   "id": "f5416f18-c1df-4731-9a47-819014bb18d3",
   "metadata": {},
   "outputs": [],
   "source": [
    "from llama_index import SummaryPrompt"
   ]
  },
  {
   "cell_type": "code",
   "execution_count": null,
   "id": "7aada7a4-7f72-486b-9ba8-22abc2ea0a29",
   "metadata": {},
   "outputs": [],
   "source": [
    "query_str = 'В каком году Уголовный кодекс Российской Федерации был принят Государственной Думой?'\n",
    "SUMMARY_PROMPT_TMPL = (\n",
    "    'Ниже представлена контекстная информация. \\n'\n",
    "    '---------------------\\n'\n",
    "    '{context_str}'\n",
    "    '\\n---------------------\\n'\n",
    "    'Исходя из контекстной информации и не имея предварительных знаний, '\n",
    "    f'ответь на вопрос: {query_str}\\n'\n",
    ")\n",
    "SUMMARY_PROMPT = SummaryPrompt(SUMMARY_PROMPT_TMPL)"
   ]
  },
  {
   "cell_type": "code",
   "execution_count": null,
   "id": "65ebdea1-0c9f-4a78-8d6a-b0b1951ebdb8",
   "metadata": {},
   "outputs": [],
   "source": [
    "index_path = 'indices/partial/index_tree_query.json'"
   ]
  },
  {
   "cell_type": "code",
   "execution_count": null,
   "id": "42a21fff-5d82-41bf-90ca-14b1e33d2c47",
   "metadata": {},
   "outputs": [],
   "source": [
    "# Build tree index\n",
    "index_with_query = GPTTreeIndex.from_documents(\n",
    "    documents, service_context=service_context, summary_template=SUMMARY_PROMPT\n",
    ")\n",
    "\n",
    "# Save index\n",
    "index_with_query.save_to_disk(index_path)"
   ]
  },
  {
   "cell_type": "code",
   "execution_count": null,
   "id": "7c7ccaf4-d975-43ab-ba08-f33ec21b8d5d",
   "metadata": {},
   "outputs": [],
   "source": [
    "# Load index from disk\n",
    "index_with_query = GPTTreeIndex.load_from_disk(index_path, service_context=service_context)"
   ]
  },
  {
   "cell_type": "code",
   "execution_count": null,
   "id": "dc6de980-50e5-47fb-8d53-46e5f9f79ec5",
   "metadata": {},
   "outputs": [],
   "source": [
    "# Query index\n",
    "response = index.query(query_str, mode='retrieve')\n",
    "display(Markdown(f'<b>{response}</b>'))"
   ]
  },
  {
   "cell_type": "markdown",
   "id": "55b9ee14-5148-4ffc-8303-cc01a3332a92",
   "metadata": {
    "tags": []
   },
   "source": [
    "### GPT Keyword Table Index"
   ]
  },
  {
   "cell_type": "code",
   "execution_count": 26,
   "id": "8c9a5a5b-c820-4b85-b4fa-12e865bebe2e",
   "metadata": {},
   "outputs": [],
   "source": [
    "from llama_index import GPTKeywordTableIndex"
   ]
  },
  {
   "cell_type": "code",
   "execution_count": null,
   "id": "ae0310ec-6f34-4346-85e8-cd3e50e7635b",
   "metadata": {},
   "outputs": [],
   "source": [
    "index_path = 'indices/partial/index_keyword.json'"
   ]
  },
  {
   "cell_type": "code",
   "execution_count": null,
   "id": "1d1cf7bd-4aab-4cfb-ba7f-8b090f3ac3e9",
   "metadata": {},
   "outputs": [],
   "source": [
    "# Build keyword index\n",
    "documents = SimpleDirectoryReader('data/partial').load_data()\n",
    "index = GPTKeywordTableIndex.from_documents(documents, service_context=service_context)\n",
    "\n",
    "# Save index\n",
    "index.save_to_disk(index_path)"
   ]
  },
  {
   "cell_type": "code",
   "execution_count": null,
   "id": "d1dd6921-ccea-4406-8c11-5e22ed85f019",
   "metadata": {},
   "outputs": [],
   "source": [
    "# Load index from disk\n",
    "index = GPTListIndex.load_from_disk(index_path, service_context=service_context)"
   ]
  },
  {
   "cell_type": "code",
   "execution_count": null,
   "id": "dfc1bfe9-cee6-4678-967b-c86c5d79b11b",
   "metadata": {},
   "outputs": [],
   "source": [
    "# Query index\n",
    "response = index.query(\n",
    "    'В каком году Уголовный кодекс Российской Федерации был принят Государственной Думой?'\n",
    ")\n",
    "display(Markdown(f'<b>{response}</b>'))"
   ]
  },
  {
   "cell_type": "markdown",
   "id": "dd902504-aef0-4493-8c5c-67e90af25faf",
   "metadata": {
    "jp-MarkdownHeadingCollapsed": true,
    "tags": []
   },
   "source": [
    "### GPT Vector Index"
   ]
  },
  {
   "cell_type": "code",
   "execution_count": null,
   "id": "987b11af-3dbe-420d-8514-0b360c34b053",
   "metadata": {},
   "outputs": [],
   "source": [
    "from llama_index import GPTSimpleVectorIndex"
   ]
  },
  {
   "cell_type": "code",
   "execution_count": null,
   "id": "704d6c6f-bc03-4b33-8166-e14e7afd43c7",
   "metadata": {},
   "outputs": [],
   "source": [
    "index_path = 'indices/partial/index_vector.json'"
   ]
  },
  {
   "cell_type": "code",
   "execution_count": null,
   "id": "8d381f8b-45be-441f-be35-7ad415cad096",
   "metadata": {},
   "outputs": [],
   "source": [
    "# Build vector index\n",
    "documents = SimpleDirectoryReader('data/partial').load_data()\n",
    "index = GPTSimpleVectorIndex.from_documents(documents, service_context=service_context)\n",
    "\n",
    "# Save index\n",
    "index.save_to_disk(index_path)"
   ]
  },
  {
   "cell_type": "code",
   "execution_count": null,
   "id": "38c2861a-a8bb-4094-82ef-4c0738d355c4",
   "metadata": {},
   "outputs": [],
   "source": [
    "# Load index from disk\n",
    "index = GPTListIndex.load_from_disk(index_path, service_context=service_context)"
   ]
  },
  {
   "cell_type": "code",
   "execution_count": null,
   "id": "7056169c-64c9-45c8-9678-360d05411503",
   "metadata": {},
   "outputs": [],
   "source": [
    "# Query index\n",
    "response = index.query(\n",
    "    'В каком году Уголовный кодекс Российской Федерации был принят Государственной Думой?'\n",
    ")\n",
    "display(Markdown(f'<b>{response}</b>'))"
   ]
  },
  {
   "cell_type": "code",
   "execution_count": null,
   "id": "4f0c7d33-63ba-48cf-bde2-aa8589a5a4b3",
   "metadata": {},
   "outputs": [],
   "source": []
  }
 ],
 "metadata": {
  "kernelspec": {
   "display_name": "Python 3 (ipykernel)",
   "language": "python",
   "name": "python3"
  },
  "language_info": {
   "codemirror_mode": {
    "name": "ipython",
    "version": 3
   },
   "file_extension": ".py",
   "mimetype": "text/x-python",
   "name": "python",
   "nbconvert_exporter": "python",
   "pygments_lexer": "ipython3",
   "version": "3.9.12"
  }
 },
 "nbformat": 4,
 "nbformat_minor": 5
}
